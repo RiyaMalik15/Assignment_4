{
 "cells": [
  {
   "cell_type": "code",
   "execution_count": 1,
   "metadata": {},
   "outputs": [
    {
     "name": "stdout",
     "output_type": "stream",
     "text": [
      "     col-1           col-2            col-3             col-4  \\\n",
      "0     name            Riya            Gauri            Anshul   \n",
      "1      age              20               21                20   \n",
      "2  mail-id  riya@gmail.com  gauri@gmail.com  anshul@gmail.com   \n",
      "3   phn_no        22334422         66884433            998875   \n",
      "\n",
      "              col-5  \n",
      "0            Meenal  \n",
      "1                20  \n",
      "2  meenal@gmail.com  \n",
      "3            334409  \n"
     ]
    }
   ],
   "source": [
    "# Question-1\n",
    "import pandas as pd\n",
    "import numpy as np\n",
    "\n",
    "context = {\n",
    "        'col-1':['name','age','mail-id','phn_no'],\n",
    "        'col-2':['Riya','20','riya@gmail.com','22334422'],\n",
    "        'col-3':['Gauri','21','gauri@gmail.com','66884433'],\n",
    "        'col-4':['Anshul','20','anshul@gmail.com','998875'],\n",
    "        'col-5':['Meenal','20','meenal@gmail.com','334409']\n",
    "        }\n",
    "\n",
    "data_frame = pd.DataFrame(context)\n",
    "print(data_frame)"
   ]
  },
  {
   "cell_type": "code",
   "execution_count": null,
   "metadata": {},
   "outputs": [],
   "source": []
  }
 ],
 "metadata": {
  "kernelspec": {
   "display_name": "Python 3",
   "language": "python",
   "name": "python3"
  },
  "language_info": {
   "codemirror_mode": {
    "name": "ipython",
    "version": 3
   },
   "file_extension": ".py",
   "mimetype": "text/x-python",
   "name": "python",
   "nbconvert_exporter": "python",
   "pygments_lexer": "ipython3",
   "version": "3.6.5"
  }
 },
 "nbformat": 4,
 "nbformat_minor": 2
}
